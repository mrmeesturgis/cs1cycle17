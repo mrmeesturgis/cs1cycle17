{
 "cells": [
  {
   "cell_type": "markdown",
   "id": "d8bba665",
   "metadata": {},
   "source": [
    "<img src=\"https://www.sturgischarterschool.com/wp-content/uploads/2019/06/sturgisheader_logo.png\" alt=\"sturgis\" width=\"250\" align=\"right\"/>\n",
    "\n",
    "## Computer Science 'System Fundamentals' notebook 17\n",
    "### Sturgis Charter Public School \n",
    "\n"
   ]
  },
  {
   "cell_type": "markdown",
   "id": "681696fb",
   "metadata": {},
   "source": [
    "Student: [your name here]\n",
    "\n",
    "Collaborators: [N/A]\n",
    "\n",
    "Notes to the teacher: [N/A]"
   ]
  },
  {
   "cell_type": "markdown",
   "id": "16bf0839",
   "metadata": {},
   "source": [
    "### Learning Objectives for notebook \n",
    "* [System Fundamentals](sfo.pdf)\n",
    "* [Legacy systems, data migration, Testing, and Versions](https://quizlet.com/_d26zv3?x=1jqt&i=1mbc0c)\n",
    "* [Feasibility Test](https://www.simplilearn.com/feasibility-study-article)\n",
    "* [gantt Chart](https://www.datacamp.com/tutorial/how-to-make-gantt-chart-in-python-matplotlib)\n",
    "* [UML](https://youtu.be/UI6lqHOVHic)"
   ]
  },
  {
   "cell_type": "markdown",
   "id": "8c7779a8",
   "metadata": {},
   "source": [
    "## The Scenario\n",
    "\n",
    "### Question 1\n",
    "\n",
    "Read the following Scenario, then answer the questions.\n",
    "\n",
    "![Scenario](nb17_scenario.png)"
   ]
  },
  {
   "cell_type": "markdown",
   "id": "0fb81da5",
   "metadata": {},
   "source": [
    "### Question 1: Response\n",
    "\n",
    "Put your response here. This is a markdown cell.\n",
    "* ai-\n",
    "* aii-\n",
    "* b-\n",
    "* c-\n",
    "* di-\n",
    "* dii-"
   ]
  },
  {
   "cell_type": "markdown",
   "id": "5a6a053a",
   "metadata": {},
   "source": [
    "## Question 2\n",
    "\n",
    "You are the company ***'Bananas about Computers'***, and you are tasked with winning the bid for the hardware shop, ***'Porcelain Throne'*** as described above. You must produce a feasibility study documenation, and then prototype at least two different versions of how the system will roll out. \n",
    "\n",
    "a) Feasibility Test. \n",
    "* Technical Feasibility\n",
    "* Economic Feasibility\n",
    "* Legal Feasibility\n",
    "* Operational Feasibility\n",
    "* Scheduling Feasibility\n",
    "\n",
    "b) Prototyping possbilities. Prototype at least two systems for conversion from a legacy system to a current system.\n",
    "* Direct Changeover\n",
    "* Parallel Running\n",
    "* Pilot Running\n",
    "* Phased Conversion\n",
    "\n",
    "A few notes as you consider your response.\n",
    "* The legacy system is an old mac model, but the users want to switch to the latest windows version.\n",
    "* Cost is an important factor, they want to keep costs to a minimum if possible.\n",
    "* One employee is well versed in windows usage, but several users, including the manager is only really familiar with computers through the old mac system. \n",
    "* Data has been backed up to optical discs for years, unfortunately some of the primary server data was corrupted, and thus the only remaining version of these records is the optical dics. In a few cases of both the oldest and the newest data, no back-ups were made, but the data remains on the original systems. Be sure to discuss your plans for data migration.\n",
    "\n",
    "This is an official document. You will be graded not only on the quality of your respones, but on the professionalism with which you display your responses. You may want to consider putting your submission on a separate PDF format. Or at least become familiar with [markdown format.](https://www.markdownguide.org/basic-syntax/) Expected response is at least one page typed single spaced, with a combination of bullet points and paragraph responses. "
   ]
  },
  {
   "cell_type": "markdown",
   "id": "84cda9ea",
   "metadata": {},
   "source": [
    "## Question 3\n",
    "\n",
    "After seeing your initial proposal. The client is requesting either a Gantt chart or a UML mockup of the various class elements that you feel will be present in your implementation of the new system. Pick 1 of your prototypes and give them an appropriate response. \n",
    "\n",
    "Gantt Chart OR Unified Modeling Language should be embedded as an image labeled 'Question3_Response'"
   ]
  },
  {
   "cell_type": "markdown",
   "id": "a4c28e02",
   "metadata": {},
   "source": [
    "## Question 4\n",
    "\n",
    "The client is asking for clarification on how you will be rolling out ***testing*** for this project. Please give a paragraph response about how you will ***test*** the implementation that you have designed, as well as at what stage various ***users*** will have access to the system. \n",
    "\n",
    "Please also give a description of how you will ensure that there is sufficient ***security*** in the system, as well as layers of ***privacy***, depending on which user is accessing the system. "
   ]
  },
  {
   "cell_type": "markdown",
   "id": "5e45672e",
   "metadata": {},
   "source": [
    "## Question 5\n",
    "\n",
    "At the end you have gone through 3 major versions, 2 minor versions of the most recent major version and had to add 4 patches. Please briefly label the version of system, include with it an original name for your entire system. "
   ]
  },
  {
   "cell_type": "code",
   "execution_count": null,
   "id": "43e4860a",
   "metadata": {},
   "outputs": [],
   "source": []
  }
 ],
 "metadata": {
  "kernelspec": {
   "display_name": "Python 3 (ipykernel)",
   "language": "python",
   "name": "python3"
  },
  "language_info": {
   "codemirror_mode": {
    "name": "ipython",
    "version": 3
   },
   "file_extension": ".py",
   "mimetype": "text/x-python",
   "name": "python",
   "nbconvert_exporter": "python",
   "pygments_lexer": "ipython3",
   "version": "3.9.7"
  }
 },
 "nbformat": 4,
 "nbformat_minor": 5
}
